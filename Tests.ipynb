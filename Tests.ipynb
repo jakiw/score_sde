{
 "cells": [
  {
   "cell_type": "code",
   "execution_count": 1,
   "id": "acae6854",
   "metadata": {},
   "outputs": [],
   "source": [
    "from configs.vp import cifar10_ddpmpp_continuous as configs\n",
    "config = configs.get_config()\n"
   ]
  },
  {
   "cell_type": "code",
   "execution_count": 2,
   "id": "d095cc65",
   "metadata": {},
   "outputs": [
    {
     "data": {
      "text/plain": [
       "data:\n",
       "  centered: true\n",
       "  dataset: CIFAR10\n",
       "  image_size: 32\n",
       "  num_channels: 3\n",
       "  random_flip: true\n",
       "  uniform_dequantization: false\n",
       "eval:\n",
       "  batch_size: 1024\n",
       "  begin_ckpt: 9\n",
       "  bpd_dataset: test\n",
       "  enable_bpd: false\n",
       "  enable_loss: true\n",
       "  enable_sampling: false\n",
       "  end_ckpt: 26\n",
       "  num_samples: 50000\n",
       "model:\n",
       "  attention_type: ddpm\n",
       "  attn_resolutions: !!python/tuple\n",
       "  - 16\n",
       "  beta_max: 20.0\n",
       "  beta_min: 0.1\n",
       "  ch_mult: !!python/tuple\n",
       "  - 1\n",
       "  - 2\n",
       "  - 2\n",
       "  - 2\n",
       "  conditional: true\n",
       "  conv_size: 3\n",
       "  dropout: 0.1\n",
       "  ema_rate: 0.9999\n",
       "  embedding_type: positional\n",
       "  fir: false\n",
       "  fir_kernel:\n",
       "  - 1\n",
       "  - 3\n",
       "  - 3\n",
       "  - 1\n",
       "  fourier_scale: 16\n",
       "  init_scale: 0.0\n",
       "  name: ncsnpp\n",
       "  nf: 128\n",
       "  nonlinearity: swish\n",
       "  normalization: GroupNorm\n",
       "  num_res_blocks: 4\n",
       "  num_scales: 1000\n",
       "  progressive: none\n",
       "  progressive_combine: sum\n",
       "  progressive_input: none\n",
       "  resamp_with_conv: true\n",
       "  resblock_type: biggan\n",
       "  scale_by_sigma: false\n",
       "  sigma_max: 50\n",
       "  sigma_min: 0.01\n",
       "  skip_rescale: true\n",
       "optim:\n",
       "  beta1: 0.9\n",
       "  eps: 1.0e-08\n",
       "  grad_clip: 1.0\n",
       "  lr: 0.0002\n",
       "  optimizer: Adam\n",
       "  warmup: 5000\n",
       "  weight_decay: 0\n",
       "sampling:\n",
       "  corrector: none\n",
       "  method: pc\n",
       "  n_steps_each: 1\n",
       "  noise_removal: true\n",
       "  predictor: euler_maruyama\n",
       "  probability_flow: false\n",
       "  snr: 0.16\n",
       "seed: 42\n",
       "training:\n",
       "  batch_size: 128\n",
       "  continuous: true\n",
       "  eval_freq: 100\n",
       "  likelihood_weighting: false\n",
       "  log_freq: 50\n",
       "  n_iters: 1300001\n",
       "  n_jitted_steps: 5\n",
       "  reduce_mean: true\n",
       "  sde: vpsde\n",
       "  snapshot_freq: 50000\n",
       "  snapshot_freq_for_preemption: 10000\n",
       "  snapshot_sampling: true"
      ]
     },
     "execution_count": 2,
     "metadata": {},
     "output_type": "execute_result"
    }
   ],
   "source": [
    "config"
   ]
  },
  {
   "cell_type": "code",
   "execution_count": null,
   "id": "973b64d3",
   "metadata": {},
   "outputs": [],
   "source": []
  }
 ],
 "metadata": {
  "kernelspec": {
   "display_name": "Python 3 (ipykernel)",
   "language": "python",
   "name": "python3"
  },
  "language_info": {
   "codemirror_mode": {
    "name": "ipython",
    "version": 3
   },
   "file_extension": ".py",
   "mimetype": "text/x-python",
   "name": "python",
   "nbconvert_exporter": "python",
   "pygments_lexer": "ipython3",
   "version": "3.8.13"
  }
 },
 "nbformat": 4,
 "nbformat_minor": 5
}
