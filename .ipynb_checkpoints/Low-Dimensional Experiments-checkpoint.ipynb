{
 "cells": [
  {
   "cell_type": "code",
   "execution_count": 69,
   "id": "fb985800",
   "metadata": {},
   "outputs": [],
   "source": [
    "import jax.numpy as jnp\n",
    "import numpy as onp\n",
    "import jax\n",
    "import jax.random as random\n",
    "import matplotlib.pyplot as plt"
   ]
  },
  {
   "cell_type": "code",
   "execution_count": 70,
   "id": "39f147d7",
   "metadata": {},
   "outputs": [],
   "source": [
    "beta_1 = 20\n",
    "beta_0 = 0.1\n",
    "\n",
    "def get_manifold(N_samples):\n",
    "    alphas = jnp.linspace(0, 2*jnp.pi*(1 - 1/N_samples), N_samples)\n",
    "    rs = jnp.ones(N_samples)\n",
    "    return jnp.stack([rs, alphas], axis=1)\n",
    "\n",
    "def eucl_to_polar(x):\n",
    "    return jnp.stack([x[:, 0] * jnp.cos(x[:, 1]), x[:, 0] * jnp.sin(x[:, 1])], axis=1)\n",
    "\n",
    "def get_score(N_samples):\n",
    "    samples = eucl_to_polar(get_manifold(N_samples))\n",
    "    \n",
    "    def log_marginal(x, t):\n",
    "        log_mean_coeff = -0.25 * t ** 2 * (beta_1 - beta_0) - 0.5 * t * beta_0\n",
    "        mean_coeff = jnp.exp(log_mean_coeff)\n",
    "        var = 1 - jnp.exp(2. * log_mean_coeff)\n",
    "        distances = jnp.sum(((x - mean_coeff * samples)**2).reshape(N_samples, -1), axis=1)\n",
    "        return jax.scipy.special.logsumexp(-distances/(2*var), b=1/N_samples)\n",
    "\n",
    "    score = jax.grad(log_marginal)\n",
    "    return log_marginal, score"
   ]
  },
  {
   "cell_type": "code",
   "execution_count": 78,
   "id": "c29594ee",
   "metadata": {},
   "outputs": [],
   "source": [
    "def get_distance_to_mf_fun(N_samples):\n",
    "    mf = eucl_to_polar(get_manifold(N_samples))\n",
    "    def distance(x):\n",
    "        distances = jnp.sum(((x - mf)**2).reshape(N_samples, -1), axis=1)\n",
    "        return jnp.sqrt(jnp.min(distances))\n",
    "    return distance\n",
    "\n",
    "N_train = 16\n",
    "N_mf = 512\n",
    "\n",
    "def dist_mf_fun(x):\n",
    "    r = jnp.sqrt(jnp.sum(x**2))\n",
    "    return jnp.abs(r - 1)\n",
    "\n",
    "dist_train_fun = get_distance_to_mf_fun(N_train)\n",
    "\n",
    "_, score_mf = get_score(N_mf)\n",
    "_, score_train = get_score(N_train)\n",
    "#mf = eucl_to_polar(get_manifold(N_samples))\n",
    "\n",
    "data_train = eucl_to_polar(get_manifold(N_train))\n",
    "data_mf = eucl_to_polar(get_manifold(N_mf))"
   ]
  },
  {
   "cell_type": "code",
   "execution_count": 72,
   "id": "075aee19",
   "metadata": {},
   "outputs": [],
   "source": [
    "from jax.experimental.host_callback import id_print\n",
    "eps = 1e-3\n",
    "N = 1000\n",
    "T = 1\n",
    "timesteps = jnp.linspace(T, eps, N)\n",
    "dt = timesteps[0] - timesteps[1]\n",
    "\n",
    "N_samples = 20\n",
    "\n",
    "shape = (2,)\n",
    "\n",
    "def reverse_SDE(score_fn, rngs):\n",
    "    def one_sample(rng):\n",
    "        def loop_body(i, val):\n",
    "            rng, x, x_mean, d_train, d_mf = val\n",
    "            t = timesteps[i]\n",
    "            beta_t = beta_0 + t * (beta_1 - beta_0)\n",
    "            diffusion = jnp.sqrt(beta_t)\n",
    "\n",
    "            drift = -0.5 * beta_t * x\n",
    "\n",
    "            score = score_fn(x, t)\n",
    "            drift = drift - diffusion**2 *  score\n",
    "            rng, step_rng = random.split(rng)\n",
    "            z = random.normal(step_rng, x.shape)\n",
    "            x_mean = x - drift * dt\n",
    "            x = x_mean + diffusion * jnp.sqrt(dt) * z\n",
    "\n",
    "            d_mf = d_mf.at[i].set(dist_mf_fun(x_mean))\n",
    "            d_train = d_train.at[i].set(dist_train_fun(x_mean))\n",
    "            return rng, x, x_mean, d_train, d_mf\n",
    "\n",
    "        rng, step_rng = random.split(rng)\n",
    "        x = random.normal(rng, (2,))\n",
    "        \n",
    "        d_train = jnp.zeros(N)\n",
    "        d_mf = jnp.zeros(N)\n",
    "        \n",
    "        _, x, x_mean, d_train, d_mf = jax.lax.fori_loop(0, N, loop_body, (rng, x, x, d_train, d_mf))\n",
    "        return x_mean, d_train, d_mf\n",
    "    \n",
    "    return jax.jit(jax.vmap(one_sample))(rngs)"
   ]
  },
  {
   "cell_type": "code",
   "execution_count": 73,
   "id": "65918fdf",
   "metadata": {},
   "outputs": [],
   "source": [
    "random_seed = 25 #@param {\"type\": \"integer\"}\n",
    "rng = jax.random.PRNGKey(random_seed)\n",
    "N_reverse_samples = 5000\n",
    "rngs = jax.random.split(rng, N_reverse_samples)\n",
    "sample, d_train, d_mf = reverse_SDE(score_mf, rngs)"
   ]
  },
  {
   "cell_type": "code",
   "execution_count": 7,
   "id": "722c14ff",
   "metadata": {},
   "outputs": [],
   "source": [
    "mean_dist_train = jnp.mean(d_train, axis=0)\n",
    "mean_dist_mf = jnp.mean(d_mf, axis=0)"
   ]
  },
  {
   "cell_type": "code",
   "execution_count": 8,
   "id": "e1ed7bb4",
   "metadata": {},
   "outputs": [
    {
     "data": {
      "text/plain": [
       "<matplotlib.legend.Legend at 0x7fdf20b00c40>"
      ]
     },
     "execution_count": 8,
     "metadata": {},
     "output_type": "execute_result"
    },
    {
     "data": {
      "image/png": "[encoded data removed]",
      "text/plain": [
       "<Figure size 432x288 with 1 Axes>"
      ]
     },
     "metadata": {
      "needs_background": "light"
     },
     "output_type": "display_data"
    }
   ],
   "source": [
    "plt.plot(mean_dist_train, label=\"Distance to Training Data\")\n",
    "plt.plot(mean_dist_mf, label=\"Distance to MF\")\n",
    "plt.legend()"
   ]
  },
  {
   "cell_type": "code",
   "execution_count": 9,
   "id": "edc4fab0",
   "metadata": {},
   "outputs": [
    {
     "name": "stderr",
     "output_type": "stream",
     "text": [
      "/home/jakiw/Programs/miniconda3/envs/score_sde/lib/python3.8/site-packages/flax/nn/__init__.py:35: DeprecationWarning: The `flax.nn` module is Deprecated, use `flax.linen` instead. Learn more and find an upgrade guide at https://github.com/google/flax/blob/master/flax/linen/README.md\n",
      "  warnings.warn(\"The `flax.nn` module is Deprecated, use `flax.linen` instead. Learn more and find an upgrade guide at https://github.com/google/flax/blob/master/flax/linen/README.md\", DeprecationWarning)\n"
     ]
    }
   ],
   "source": [
    "from flax import linen as nn           # The Linen API\n",
    "from flax import optim"
   ]
  },
  {
   "cell_type": "code",
   "execution_count": 39,
   "id": "cfca8099",
   "metadata": {},
   "outputs": [
    {
     "ename": "ModuleNotFoundError",
     "evalue": "No module named 'flax.linen.activations'",
     "output_type": "error",
     "traceback": [
      "\u001b[0;31m---------------------------------------------------------------------------\u001b[0m",
      "\u001b[0;31mModuleNotFoundError\u001b[0m                       Traceback (most recent call last)",
      "Input \u001b[0;32mIn [39]\u001b[0m, in \u001b[0;36m<cell line: 1>\u001b[0;34m()\u001b[0m\n\u001b[0;32m----> 1\u001b[0m \u001b[38;5;28;01mimport\u001b[39;00m \u001b[38;5;21;01mflax\u001b[39;00m\u001b[38;5;21;01m.\u001b[39;00m\u001b[38;5;21;01mlinen\u001b[39;00m\u001b[38;5;21;01m.\u001b[39;00m\u001b[38;5;21;01mactivations\u001b[39;00m \u001b[38;5;28;01mas\u001b[39;00m \u001b[38;5;21;01mactivations\u001b[39;00m\n",
      "\u001b[0;31mModuleNotFoundError\u001b[0m: No module named 'flax.linen.activations'"
     ]
    }
   ],
   "source": [
    "import flax.linen. as activations"
   ]
  },
  {
   "cell_type": "code",
   "execution_count": 42,
   "id": "2f942579",
   "metadata": {},
   "outputs": [
    {
     "data": {
      "text/plain": [
       "<function jax._src.nn.functions.leaky_relu(x, negative_slope=0.01)>"
      ]
     },
     "execution_count": 42,
     "metadata": {},
     "output_type": "execute_result"
    }
   ],
   "source": [
    "nn.leaky_relu"
   ]
  },
  {
   "cell_type": "code",
   "execution_count": 192,
   "id": "babc0e3b",
   "metadata": {},
   "outputs": [],
   "source": [
    "class MLP(nn.Module):\n",
    "  @nn.compact\n",
    "  def __call__(self, x, t):\n",
    "    t = jnp.stack([t, jnp.cos(2*jnp.pi*t), jnp.sin(2*jnp.pi*t)], axis=1)\n",
    "    t = nn.Dense(3)(t)\n",
    "    t = nn.leaky_relu(t)\n",
    "    t = nn.Dense(3)(t)\n",
    "    t = nn.leaky_relu(t)\n",
    "\n",
    "    x = nn.Dense(2)(x)                # inline submodules\n",
    "    x = nn.leaky_relu(x)\n",
    "    x = nn.Dense(4)(x)                # inline submodules\n",
    "    x = nn.leaky_relu(x)\n",
    "    x = nn.Dense(4)(x)                # inline submodules\n",
    "    x = nn.leaky_relu(x)\n",
    "    \n",
    "    x = jnp.hstack([x, t])\n",
    "    x = nn.Dense(6)(x)                # inline submodules\n",
    "    x = nn.leaky_relu(x)\n",
    "    x = nn.Dense(6)(x)                # inline submodules\n",
    "    x = nn.leaky_relu(x)\n",
    "    x = nn.Dense(2)(x)\n",
    "    return x\n",
    "\n",
    "score_approx = MLP()                    # create model\n",
    "\n",
    "x = jnp.ones((16, 2))*3                 # get some data\n",
    "t = jnp.ones((16, ))*5\n",
    "variables = score_approx.init(rng, x, t) # initialize weights\n",
    "y = score_approx.apply(variables, x, t)          # make forward pass"
   ]
  },
  {
   "cell_type": "code",
   "execution_count": 193,
   "id": "8a753780",
   "metadata": {},
   "outputs": [],
   "source": [
    "def matrix_rowwise(M, v):\n",
    "    def mul(a, b):\n",
    "        return a * b\n",
    "    \n",
    "    return jax.vmap(mul, (0, 0), 0)(M, v)"
   ]
  },
  {
   "cell_type": "code",
   "execution_count": 194,
   "id": "2e384258",
   "metadata": {},
   "outputs": [],
   "source": [
    "def _loss_fn(variables, rng, batch):\n",
    "    rng, step_rng = random.split(rng)\n",
    "    ts = random.uniform(rng, (batch.shape[0],), minval=eps, maxval=T)\n",
    "\n",
    "    log_mean_coeff = -0.25 * ts ** 2 * (beta_1 - beta_0) - 0.5 * ts * beta_0\n",
    "    mean_coeff = jnp.exp(log_mean_coeff)\n",
    "    var = 1 - jnp.exp(2. * log_mean_coeff)\n",
    "    std = jnp.sqrt(var)\n",
    "\n",
    "    z = random.normal(rng, batch.shape)\n",
    "    samples = matrix_rowwise(batch, mean_coeff) + matrix_rowwise(z, std) \n",
    "\n",
    "    predicted_score = score_approx.apply(variables, samples, ts)\n",
    "    return jnp.mean((predicted_score  - matrix_rowwise(z, 1/std))**2)\n",
    "\n",
    "loss_fn = jax.jit(_loss_fn)\n",
    "\n",
    "def _train_step(optimizer, rng, batch):\n",
    "    grad_fn = jax.value_and_grad(loss_fn)\n",
    "    _, grad = grad_fn(optimizer.target, rng, batch)\n",
    "    optimizer = optimizer.apply_gradient(grad)\n",
    "    return optimizer\n",
    "\n",
    "train_step = jax.jit(_train_step)"
   ]
  },
  {
   "cell_type": "code",
   "execution_count": 196,
   "id": "a8ac06c9",
   "metadata": {},
   "outputs": [
    {
     "data": {
      "text/plain": [
       "DeviceArray(55.538982, dtype=float32)"
      ]
     },
     "execution_count": 196,
     "metadata": {},
     "output_type": "execute_result"
    }
   ],
   "source": [
    "train_eval = jnp.repeat(data_train, 2000, axis=0)\n",
    "_loss_fn(score_mf, rng, train_eval)"
   ]
  },
  {
   "cell_type": "code",
   "execution_count": null,
   "id": "272b44a2",
   "metadata": {},
   "outputs": [
    {
     "name": "stdout",
     "output_type": "stream",
     "text": [
      "Epoch 0, Train: 15.71, \t Test: 21.82\n",
      "Epoch 1000, Train: 17.76, \t Test: 21.00\n",
      "Epoch 2000, Train: 19.25, \t Test: 16.41\n",
      "Epoch 3000, Train: 35.80, \t Test: 27.11\n",
      "Epoch 4000, Train: 25.95, \t Test: 26.40\n",
      "Epoch 5000, Train: 20.43, \t Test: 36.12\n",
      "Epoch 6000, Train: 23.86, \t Test: 15.17\n",
      "Epoch 7000, Train: 26.74, \t Test: 12.54\n",
      "Epoch 8000, Train: 15.36, \t Test: 18.56\n",
      "Epoch 9000, Train: 28.37, \t Test: 47.91\n",
      "Epoch 10000, Train: 18.32, \t Test: 15.39\n",
      "Epoch 11000, Train: 15.92, \t Test: 42.23\n",
      "Epoch 12000, Train: 46.03, \t Test: 21.12\n",
      "Epoch 13000, Train: 24.18, \t Test: 38.28\n",
      "Epoch 14000, Train: 15.15, \t Test: 22.21\n",
      "Epoch 15000, Train: 30.37, \t Test: 19.04\n",
      "Epoch 16000, Train: 21.74, \t Test: 25.65\n",
      "Epoch 17000, Train: 33.40, \t Test: 26.05\n",
      "Epoch 18000, Train: 20.30, \t Test: 18.88\n",
      "Epoch 19000, Train: 38.56, \t Test: 25.57\n",
      "Epoch 20000, Train: 21.00, \t Test: 16.71\n",
      "Epoch 21000, Train: 15.33, \t Test: 21.07\n",
      "Epoch 22000, Train: 21.10, \t Test: 26.57\n",
      "Epoch 23000, Train: 15.90, \t Test: 18.66\n",
      "Epoch 24000, Train: 25.76, \t Test: 33.65\n",
      "Epoch 25000, Train: 22.02, \t Test: 31.74\n",
      "Epoch 26000, Train: 19.04, \t Test: 25.70\n",
      "Epoch 27000, Train: 27.45, \t Test: 21.08\n",
      "Epoch 28000, Train: 41.14, \t Test: 22.20\n",
      "Epoch 29000, Train: 29.22, \t Test: 20.99\n",
      "Epoch 30000, Train: 22.66, \t Test: 16.26\n",
      "Epoch 31000, Train: 19.39, \t Test: 17.64\n",
      "Epoch 32000, Train: 22.14, \t Test: 28.67\n",
      "Epoch 33000, Train: 21.10, \t Test: 29.49\n",
      "Epoch 34000, Train: 31.75, \t Test: 15.84\n",
      "Epoch 35000, Train: 20.96, \t Test: 17.87\n",
      "Epoch 36000, Train: 23.34, \t Test: 23.44\n",
      "Epoch 37000, Train: 27.20, \t Test: 29.34\n",
      "Epoch 38000, Train: 26.08, \t Test: 12.78\n",
      "Epoch 39000, Train: 31.95, \t Test: 14.49\n",
      "Epoch 40000, Train: 18.56, \t Test: 21.65\n",
      "Epoch 41000, Train: 11.60, \t Test: 23.89\n",
      "Epoch 42000, Train: 15.51, \t Test: 24.22\n",
      "Epoch 43000, Train: 18.34, \t Test: 21.43\n",
      "Epoch 44000, Train: 33.31, \t Test: 18.55\n",
      "Epoch 45000, Train: 18.94, \t Test: 38.15\n",
      "Epoch 46000, Train: 30.07, \t Test: 18.41\n",
      "Epoch 47000, Train: 15.79, \t Test: 17.10\n",
      "Epoch 48000, Train: 17.93, \t Test: 23.18\n",
      "Epoch 49000, Train: 19.76, \t Test: 15.81\n",
      "Epoch 50000, Train: 22.63, \t Test: 19.53\n",
      "Epoch 51000, Train: 18.77, \t Test: 14.64\n",
      "Epoch 52000, Train: 21.22, \t Test: 24.69\n",
      "Epoch 53000, Train: 34.34, \t Test: 44.72\n",
      "Epoch 54000, Train: 19.61, \t Test: 29.58\n",
      "Epoch 55000, Train: 18.96, \t Test: 28.03\n",
      "Epoch 56000, Train: 26.27, \t Test: 13.97\n",
      "Epoch 57000, Train: 35.77, \t Test: 12.61\n",
      "Epoch 58000, Train: 18.93, \t Test: 14.41\n",
      "Epoch 59000, Train: 20.79, \t Test: 25.87\n",
      "Epoch 60000, Train: 24.65, \t Test: 15.90\n",
      "Epoch 61000, Train: 18.31, \t Test: 19.00\n",
      "Epoch 62000, Train: 46.67, \t Test: 23.14\n",
      "Epoch 63000, Train: 34.14, \t Test: 42.45\n",
      "Epoch 64000, Train: 20.39, \t Test: 14.79\n",
      "Epoch 65000, Train: 42.40, \t Test: 15.77\n",
      "Epoch 66000, Train: 27.55, \t Test: 14.82\n",
      "Epoch 67000, Train: 26.67, \t Test: 27.68\n",
      "Epoch 68000, Train: 17.74, \t Test: 15.69\n",
      "Epoch 69000, Train: 21.48, \t Test: 21.41\n",
      "Epoch 70000, Train: 23.13, \t Test: 26.55\n",
      "Epoch 71000, Train: 31.23, \t Test: 26.97\n",
      "Epoch 72000, Train: 17.74, \t Test: 25.03\n",
      "Epoch 73000, Train: 25.10, \t Test: 19.42\n",
      "Epoch 74000, Train: 20.68, \t Test: 14.47\n",
      "Epoch 75000, Train: 17.75, \t Test: 25.91\n",
      "Epoch 76000, Train: 27.37, \t Test: 19.69\n",
      "Epoch 77000, Train: 21.18, \t Test: 22.53\n",
      "Epoch 78000, Train: 21.82, \t Test: 25.69\n",
      "Epoch 79000, Train: 24.01, \t Test: 40.19\n",
      "Epoch 80000, Train: 33.06, \t Test: 23.81\n",
      "Epoch 81000, Train: 24.73, \t Test: 21.44\n",
      "Epoch 82000, Train: 27.78, \t Test: 27.31\n",
      "Epoch 83000, Train: 12.89, \t Test: 21.95\n"
     ]
    }
   ],
   "source": [
    "rng = random.PRNGKey(0)\n",
    "rng, key = random.split(rng)\n",
    "\n",
    "optimizer = optim.Adam(learning_rate=0.0001).create(variables)\n",
    "optimizer = jax.device_put(optimizer)\n",
    "\n",
    "N_optim_steps = 100000\n",
    "\n",
    "N_train = 10\n",
    "N_test = 2\n",
    "\n",
    "rng, step_rng = random.split(rng)\n",
    "shuffled_data = random.shuffle(step_rng, data_train)\n",
    "train_data = shuffled_data[:N_train, :]\n",
    "test_data = shuffled_data[N_train+1:, :]\n",
    "\n",
    "for epoch in range(N_optim_steps):\n",
    "    batch = train_data\n",
    "    rng, step_rng = random.split(rng)\n",
    "    optimizer = train_step(optimizer, step_rng, batch)\n",
    "    if epoch % 1000 == 0:\n",
    "        rng, step_rng = random.split(rng)\n",
    "        train_eval = jnp.repeat(train_data, 200, axis=0)\n",
    "        train_loss = loss_fn(optimizer.target, step_rng, train_eval)\n",
    "        rng, step_rng = random.split(rng)\n",
    "        test_eval = jnp.repeat(test_data, 500, axis=0)\n",
    "        eval_loss = loss_fn(optimizer.target, step_rng, test_eval)\n",
    "        print(\"Epoch %d, Train: %.2f, \\t Test: %.2f\" % (epoch, train_loss, eval_loss))"
   ]
  },
  {
   "cell_type": "code",
   "execution_count": 140,
   "id": "2220575b",
   "metadata": {},
   "outputs": [],
   "source": [
    "x = jnp.array([[1.0, 1.0]])\n",
    "t = jnp.array([1.0])\n",
    "score_approx_single = lambda x, t: score_approx.apply(variables, x[jnp.newaxis, :], jnp.array([t]))[0]"
   ]
  },
  {
   "cell_type": "code",
   "execution_count": 141,
   "id": "d037fb23",
   "metadata": {},
   "outputs": [
    {
     "data": {
      "text/plain": [
       "DeviceArray([0.00731047, 0.00144315], dtype=float32)"
      ]
     },
     "execution_count": 141,
     "metadata": {},
     "output_type": "execute_result"
    }
   ],
   "source": [
    "score_approx_single(jnp.ones(2), 1.0)"
   ]
  },
  {
   "cell_type": "code",
   "execution_count": 142,
   "id": "0f65e27e",
   "metadata": {
    "scrolled": true
   },
   "outputs": [],
   "source": [
    "def quiver_plot(sc_fn, t):\n",
    "    base_grid = jnp.linspace(-1.5, 1.5, 16)\n",
    "    x_grid, y_grid = jnp.meshgrid(base_grid, base_grid)\n",
    "    x_grid = x_grid.flatten()\n",
    "    y_grid = y_grid.flatten()\n",
    "    coords = jnp.stack([x_grid, y_grid], axis=1)\n",
    "    ts = jnp.ones(coords.shape[0]) * t\n",
    "    scores = jax.jit(jax.vmap(sc_fn, (0, 0), 0))(coords, ts)\n",
    "    plt.quiver(coords[:, 0], coords[:, 1], scores[:, 0], scores[:, 1])"
   ]
  },
  {
   "cell_type": "code",
   "execution_count": 190,
   "id": "20be05b3",
   "metadata": {},
   "outputs": [
    {
     "data": {
      "image/png": "[encoded data removed]",
      "text/plain": [
       "<Figure size 432x288 with 1 Axes>"
      ]
     },
     "metadata": {
      "needs_background": "light"
     },
     "output_type": "display_data"
    }
   ],
   "source": [
    "quiver_plot(score_approx_single, 1.0)"
   ]
  },
  {
   "cell_type": "code",
   "execution_count": 134,
   "id": "1410eb30",
   "metadata": {},
   "outputs": [
    {
     "ename": "TypeError",
     "evalue": "Cannot concatenate arrays with different ranks, got 1, 2.",
     "output_type": "error",
     "traceback": [
      "\u001b[0;31m---------------------------------------------------------------------------\u001b[0m",
      "\u001b[0;31mTypeError\u001b[0m                                 Traceback (most recent call last)",
      "Input \u001b[0;32mIn [134]\u001b[0m, in \u001b[0;36m<cell line: 1>\u001b[0;34m()\u001b[0m\n\u001b[0;32m----> 1\u001b[0m \u001b[43msc_approx_fn\u001b[49m\u001b[43m(\u001b[49m\u001b[43mjnp\u001b[49m\u001b[38;5;241;43m.\u001b[39;49m\u001b[43marray\u001b[49m\u001b[43m(\u001b[49m\u001b[43m[\u001b[49m\u001b[38;5;241;43m-\u001b[39;49m\u001b[38;5;241;43m1\u001b[39;49m\u001b[43m,\u001b[49m\u001b[43m \u001b[49m\u001b[38;5;241;43m-\u001b[39;49m\u001b[38;5;241;43m1\u001b[39;49m\u001b[43m]\u001b[49m\u001b[43m)\u001b[49m\u001b[43m,\u001b[49m\u001b[43m \u001b[49m\u001b[43mjnp\u001b[49m\u001b[38;5;241;43m.\u001b[39;49m\u001b[43marray\u001b[49m\u001b[43m(\u001b[49m\u001b[43m[\u001b[49m\u001b[38;5;241;43m1.0\u001b[39;49m\u001b[43m]\u001b[49m\u001b[43m)\u001b[49m\u001b[43m)\u001b[49m\n",
      "Input \u001b[0;32mIn [132]\u001b[0m, in \u001b[0;36m<lambda>\u001b[0;34m(x, t)\u001b[0m\n\u001b[0;32m----> 1\u001b[0m sc_approx_fn \u001b[38;5;241m=\u001b[39m \u001b[38;5;28;01mlambda\u001b[39;00m x, t: \u001b[43mscore_approx\u001b[49m\u001b[38;5;241;43m.\u001b[39;49m\u001b[43mapply\u001b[49m\u001b[43m(\u001b[49m\u001b[43mvariables\u001b[49m\u001b[43m,\u001b[49m\u001b[43m \u001b[49m\u001b[43mx\u001b[49m\u001b[43m,\u001b[49m\u001b[43m \u001b[49m\u001b[43mt\u001b[49m\u001b[43m)\u001b[49m\n",
      "File \u001b[0;32m~/Programs/miniconda3/envs/score_sde/lib/python3.8/site-packages/flax/linen/module.py:841\u001b[0m, in \u001b[0;36mModule.apply\u001b[0;34m(self, variables, rngs, method, mutable, capture_intermediates, *args, **kwargs)\u001b[0m\n\u001b[1;32m    839\u001b[0m _context\u001b[38;5;241m.\u001b[39mcapture_stack\u001b[38;5;241m.\u001b[39mappend(capture_intermediates)\n\u001b[1;32m    840\u001b[0m \u001b[38;5;28;01mtry\u001b[39;00m:\n\u001b[0;32m--> 841\u001b[0m   \u001b[38;5;28;01mreturn\u001b[39;00m \u001b[43mapply\u001b[49m\u001b[43m(\u001b[49m\u001b[43mfn\u001b[49m\u001b[43m,\u001b[49m\u001b[43m \u001b[49m\u001b[43mmutable\u001b[49m\u001b[38;5;241;43m=\u001b[39;49m\u001b[43mmutable\u001b[49m\u001b[43m)\u001b[49m\u001b[43m(\u001b[49m\u001b[43mvariables\u001b[49m\u001b[43m,\u001b[49m\u001b[43m \u001b[49m\u001b[43mrngs\u001b[49m\u001b[38;5;241;43m=\u001b[39;49m\u001b[43mrngs\u001b[49m\u001b[43m)\u001b[49m\n\u001b[1;32m    842\u001b[0m \u001b[38;5;28;01mfinally\u001b[39;00m:\n\u001b[1;32m    843\u001b[0m   _context\u001b[38;5;241m.\u001b[39mcapture_stack\u001b[38;5;241m.\u001b[39mpop()\n",
      "File \u001b[0;32m~/Programs/miniconda3/envs/score_sde/lib/python3.8/site-packages/flax/core/scope.py:608\u001b[0m, in \u001b[0;36mapply.<locals>.wrapper\u001b[0;34m(variables, rngs, *args, **kwargs)\u001b[0m\n\u001b[1;32m    606\u001b[0m new_variables \u001b[38;5;241m=\u001b[39m _unfreeze_variables(variables, mutable)\n\u001b[1;32m    607\u001b[0m \u001b[38;5;28;01mwith\u001b[39;00m Scope(new_variables, rngs\u001b[38;5;241m=\u001b[39mrngs, mutable\u001b[38;5;241m=\u001b[39mmutable)\u001b[38;5;241m.\u001b[39mtemporary() \u001b[38;5;28;01mas\u001b[39;00m root:\n\u001b[0;32m--> 608\u001b[0m   y \u001b[38;5;241m=\u001b[39m \u001b[43mfn\u001b[49m\u001b[43m(\u001b[49m\u001b[43mroot\u001b[49m\u001b[43m,\u001b[49m\u001b[43m \u001b[49m\u001b[38;5;241;43m*\u001b[39;49m\u001b[43margs\u001b[49m\u001b[43m,\u001b[49m\u001b[43m \u001b[49m\u001b[38;5;241;43m*\u001b[39;49m\u001b[38;5;241;43m*\u001b[39;49m\u001b[43mkwargs\u001b[49m\u001b[43m)\u001b[49m\n\u001b[1;32m    609\u001b[0m \u001b[38;5;28;01mif\u001b[39;00m mutable \u001b[38;5;129;01mis\u001b[39;00m \u001b[38;5;129;01mnot\u001b[39;00m \u001b[38;5;28;01mFalse\u001b[39;00m:\n\u001b[1;32m    610\u001b[0m   mutated_variables \u001b[38;5;241m=\u001b[39m {k: v\n\u001b[1;32m    611\u001b[0m                        \u001b[38;5;28;01mfor\u001b[39;00m k, v \u001b[38;5;129;01min\u001b[39;00m new_variables\u001b[38;5;241m.\u001b[39mitems()\n\u001b[1;32m    612\u001b[0m                        \u001b[38;5;28;01mif\u001b[39;00m in_filter(mutable, k)}\n",
      "File \u001b[0;32m~/Programs/miniconda3/envs/score_sde/lib/python3.8/site-packages/flax/linen/module.py:834\u001b[0m, in \u001b[0;36mModule.apply.<locals>.<lambda>\u001b[0;34m(scope)\u001b[0m\n\u001b[1;32m    832\u001b[0m \u001b[38;5;28;01melse\u001b[39;00m:\n\u001b[1;32m    833\u001b[0m   method \u001b[38;5;241m=\u001b[39m _get_unbound_fn(method)\n\u001b[0;32m--> 834\u001b[0m fn \u001b[38;5;241m=\u001b[39m \u001b[38;5;28;01mlambda\u001b[39;00m scope: \u001b[43mmethod\u001b[49m\u001b[43m(\u001b[49m\u001b[38;5;28;43mself\u001b[39;49m\u001b[38;5;241;43m.\u001b[39;49m\u001b[43mclone\u001b[49m\u001b[43m(\u001b[49m\u001b[43mparent\u001b[49m\u001b[38;5;241;43m=\u001b[39;49m\u001b[43mscope\u001b[49m\u001b[43m)\u001b[49m\u001b[43m,\u001b[49m\u001b[43m \u001b[49m\u001b[38;5;241;43m*\u001b[39;49m\u001b[43margs\u001b[49m\u001b[43m,\u001b[49m\u001b[43m \u001b[49m\u001b[38;5;241;43m*\u001b[39;49m\u001b[38;5;241;43m*\u001b[39;49m\u001b[43mkwargs\u001b[49m\u001b[43m)\u001b[49m\n\u001b[1;32m    835\u001b[0m \u001b[38;5;28;01mif\u001b[39;00m capture_intermediates \u001b[38;5;129;01mis\u001b[39;00m \u001b[38;5;28;01mTrue\u001b[39;00m:\n\u001b[1;32m    836\u001b[0m   capture_intermediates \u001b[38;5;241m=\u001b[39m capture_call_intermediates\n",
      "File \u001b[0;32m~/Programs/miniconda3/envs/score_sde/lib/python3.8/site-packages/flax/linen/module.py:277\u001b[0m, in \u001b[0;36mwrap_method_once.<locals>.wrapped_module_method\u001b[0;34m(*args, **kwargs)\u001b[0m\n\u001b[1;32m    275\u001b[0m _context\u001b[38;5;241m.\u001b[39mmodule_stack\u001b[38;5;241m.\u001b[39mappend(\u001b[38;5;28mself\u001b[39m)\n\u001b[1;32m    276\u001b[0m \u001b[38;5;28;01mtry\u001b[39;00m:\n\u001b[0;32m--> 277\u001b[0m   y \u001b[38;5;241m=\u001b[39m \u001b[43mfun\u001b[49m\u001b[43m(\u001b[49m\u001b[38;5;28;43mself\u001b[39;49m\u001b[43m,\u001b[49m\u001b[43m \u001b[49m\u001b[38;5;241;43m*\u001b[39;49m\u001b[43margs\u001b[49m\u001b[43m,\u001b[49m\u001b[43m \u001b[49m\u001b[38;5;241;43m*\u001b[39;49m\u001b[38;5;241;43m*\u001b[39;49m\u001b[43mkwargs\u001b[49m\u001b[43m)\u001b[49m\n\u001b[1;32m    278\u001b[0m   \u001b[38;5;28;01mif\u001b[39;00m _context\u001b[38;5;241m.\u001b[39mcapture_stack:\n\u001b[1;32m    279\u001b[0m     filter_fn \u001b[38;5;241m=\u001b[39m _context\u001b[38;5;241m.\u001b[39mcapture_stack[\u001b[38;5;241m-\u001b[39m\u001b[38;5;241m1\u001b[39m]\n",
      "Input \u001b[0;32mIn [91]\u001b[0m, in \u001b[0;36mMLP.__call__\u001b[0;34m(self, x, t)\u001b[0m\n\u001b[1;32m     10\u001b[0m x \u001b[38;5;241m=\u001b[39m nn\u001b[38;5;241m.\u001b[39mDense(\u001b[38;5;241m4\u001b[39m)(x)                \u001b[38;5;66;03m# inline submodules\u001b[39;00m\n\u001b[1;32m     11\u001b[0m x \u001b[38;5;241m=\u001b[39m nn\u001b[38;5;241m.\u001b[39mleaky_relu(x)\n\u001b[0;32m---> 13\u001b[0m x \u001b[38;5;241m=\u001b[39m \u001b[43mjnp\u001b[49m\u001b[38;5;241;43m.\u001b[39;49m\u001b[43mhstack\u001b[49m\u001b[43m(\u001b[49m\u001b[43m[\u001b[49m\u001b[43mx\u001b[49m\u001b[43m,\u001b[49m\u001b[43m \u001b[49m\u001b[43mt\u001b[49m\u001b[43m]\u001b[49m\u001b[43m)\u001b[49m\n\u001b[1;32m     14\u001b[0m x \u001b[38;5;241m=\u001b[39m nn\u001b[38;5;241m.\u001b[39mDense(\u001b[38;5;241m6\u001b[39m)(x)                \u001b[38;5;66;03m# inline submodules\u001b[39;00m\n\u001b[1;32m     15\u001b[0m x \u001b[38;5;241m=\u001b[39m nn\u001b[38;5;241m.\u001b[39mleaky_relu(x)\n",
      "File \u001b[0;32m~/Programs/miniconda3/envs/score_sde/lib/python3.8/site-packages/jax/_src/numpy/lax_numpy.py:2681\u001b[0m, in \u001b[0;36mhstack\u001b[0;34m(tup)\u001b[0m\n\u001b[1;32m   2679\u001b[0m arrs \u001b[38;5;241m=\u001b[39m [atleast_1d(m) \u001b[38;5;28;01mfor\u001b[39;00m m \u001b[38;5;129;01min\u001b[39;00m tup]\n\u001b[1;32m   2680\u001b[0m \u001b[38;5;28;01mif\u001b[39;00m arrs[\u001b[38;5;241m0\u001b[39m]\u001b[38;5;241m.\u001b[39mndim \u001b[38;5;241m==\u001b[39m \u001b[38;5;241m1\u001b[39m:\n\u001b[0;32m-> 2681\u001b[0m   \u001b[38;5;28;01mreturn\u001b[39;00m \u001b[43mconcatenate\u001b[49m\u001b[43m(\u001b[49m\u001b[43marrs\u001b[49m\u001b[43m,\u001b[49m\u001b[43m \u001b[49m\u001b[38;5;241;43m0\u001b[39;49m\u001b[43m)\u001b[49m\n\u001b[1;32m   2682\u001b[0m \u001b[38;5;28;01mreturn\u001b[39;00m concatenate(arrs, \u001b[38;5;241m1\u001b[39m)\n",
      "File \u001b[0;32m~/Programs/miniconda3/envs/score_sde/lib/python3.8/site-packages/jax/_src/numpy/lax_numpy.py:2666\u001b[0m, in \u001b[0;36mconcatenate\u001b[0;34m(arrays, axis)\u001b[0m\n\u001b[1;32m   2664\u001b[0m \u001b[38;5;28;01melse\u001b[39;00m:\n\u001b[1;32m   2665\u001b[0m   \u001b[38;5;28;01mwhile\u001b[39;00m \u001b[38;5;28mlen\u001b[39m(arrays) \u001b[38;5;241m>\u001b[39m \u001b[38;5;241m1\u001b[39m:\n\u001b[0;32m-> 2666\u001b[0m     arrays \u001b[38;5;241m=\u001b[39m [lax\u001b[38;5;241m.\u001b[39mconcatenate(arrays[i:i\u001b[38;5;241m+\u001b[39mk], axis)\n\u001b[1;32m   2667\u001b[0m               \u001b[38;5;28;01mfor\u001b[39;00m i \u001b[38;5;129;01min\u001b[39;00m \u001b[38;5;28mrange\u001b[39m(\u001b[38;5;241m0\u001b[39m, \u001b[38;5;28mlen\u001b[39m(arrays), k)]\n\u001b[1;32m   2668\u001b[0m   \u001b[38;5;28;01mreturn\u001b[39;00m arrays[\u001b[38;5;241m0\u001b[39m]\n",
      "File \u001b[0;32m~/Programs/miniconda3/envs/score_sde/lib/python3.8/site-packages/jax/_src/numpy/lax_numpy.py:2666\u001b[0m, in \u001b[0;36m<listcomp>\u001b[0;34m(.0)\u001b[0m\n\u001b[1;32m   2664\u001b[0m \u001b[38;5;28;01melse\u001b[39;00m:\n\u001b[1;32m   2665\u001b[0m   \u001b[38;5;28;01mwhile\u001b[39;00m \u001b[38;5;28mlen\u001b[39m(arrays) \u001b[38;5;241m>\u001b[39m \u001b[38;5;241m1\u001b[39m:\n\u001b[0;32m-> 2666\u001b[0m     arrays \u001b[38;5;241m=\u001b[39m [\u001b[43mlax\u001b[49m\u001b[38;5;241;43m.\u001b[39;49m\u001b[43mconcatenate\u001b[49m\u001b[43m(\u001b[49m\u001b[43marrays\u001b[49m\u001b[43m[\u001b[49m\u001b[43mi\u001b[49m\u001b[43m:\u001b[49m\u001b[43mi\u001b[49m\u001b[38;5;241;43m+\u001b[39;49m\u001b[43mk\u001b[49m\u001b[43m]\u001b[49m\u001b[43m,\u001b[49m\u001b[43m \u001b[49m\u001b[43maxis\u001b[49m\u001b[43m)\u001b[49m\n\u001b[1;32m   2667\u001b[0m               \u001b[38;5;28;01mfor\u001b[39;00m i \u001b[38;5;129;01min\u001b[39;00m \u001b[38;5;28mrange\u001b[39m(\u001b[38;5;241m0\u001b[39m, \u001b[38;5;28mlen\u001b[39m(arrays), k)]\n\u001b[1;32m   2668\u001b[0m   \u001b[38;5;28;01mreturn\u001b[39;00m arrays[\u001b[38;5;241m0\u001b[39m]\n",
      "File \u001b[0;32m~/Programs/miniconda3/envs/score_sde/lib/python3.8/site-packages/jax/_src/lax/lax.py:495\u001b[0m, in \u001b[0;36mconcatenate\u001b[0;34m(operands, dimension)\u001b[0m\n\u001b[1;32m    480\u001b[0m \u001b[38;5;28;01mdef\u001b[39;00m \u001b[38;5;21mconcatenate\u001b[39m(operands: Sequence[Array], dimension: \u001b[38;5;28mint\u001b[39m) \u001b[38;5;241m-\u001b[39m\u001b[38;5;241m>\u001b[39m Array:\n\u001b[1;32m    481\u001b[0m   \u001b[38;5;124;03m\"\"\"Concatenates a sequence of arrays along `dimension`.\u001b[39;00m\n\u001b[1;32m    482\u001b[0m \n\u001b[1;32m    483\u001b[0m \u001b[38;5;124;03m  Wraps XLA's `Concatenate\u001b[39;00m\n\u001b[0;32m   (...)\u001b[0m\n\u001b[1;32m    493\u001b[0m \u001b[38;5;124;03m    An array containing the concatenation.\u001b[39;00m\n\u001b[1;32m    494\u001b[0m \u001b[38;5;124;03m  \"\"\"\u001b[39;00m\n\u001b[0;32m--> 495\u001b[0m   \u001b[38;5;28;01mreturn\u001b[39;00m \u001b[43mconcatenate_p\u001b[49m\u001b[38;5;241;43m.\u001b[39;49m\u001b[43mbind\u001b[49m\u001b[43m(\u001b[49m\u001b[38;5;241;43m*\u001b[39;49m\u001b[43moperands\u001b[49m\u001b[43m,\u001b[49m\u001b[43m \u001b[49m\u001b[43mdimension\u001b[49m\u001b[38;5;241;43m=\u001b[39;49m\u001b[43mdimension\u001b[49m\u001b[43m)\u001b[49m\n",
      "File \u001b[0;32m~/Programs/miniconda3/envs/score_sde/lib/python3.8/site-packages/jax/core.py:271\u001b[0m, in \u001b[0;36mPrimitive.bind\u001b[0;34m(self, *args, **params)\u001b[0m\n\u001b[1;32m    269\u001b[0m top_trace \u001b[38;5;241m=\u001b[39m find_top_trace(args)\n\u001b[1;32m    270\u001b[0m tracers \u001b[38;5;241m=\u001b[39m \u001b[38;5;28mmap\u001b[39m(top_trace\u001b[38;5;241m.\u001b[39mfull_raise, args)\n\u001b[0;32m--> 271\u001b[0m out \u001b[38;5;241m=\u001b[39m \u001b[43mtop_trace\u001b[49m\u001b[38;5;241;43m.\u001b[39;49m\u001b[43mprocess_primitive\u001b[49m\u001b[43m(\u001b[49m\u001b[38;5;28;43mself\u001b[39;49m\u001b[43m,\u001b[49m\u001b[43m \u001b[49m\u001b[43mtracers\u001b[49m\u001b[43m,\u001b[49m\u001b[43m \u001b[49m\u001b[43mparams\u001b[49m\u001b[43m)\u001b[49m\n\u001b[1;32m    272\u001b[0m \u001b[38;5;28;01mreturn\u001b[39;00m \u001b[38;5;28mmap\u001b[39m(full_lower, out) \u001b[38;5;28;01mif\u001b[39;00m \u001b[38;5;28mself\u001b[39m\u001b[38;5;241m.\u001b[39mmultiple_results \u001b[38;5;28;01melse\u001b[39;00m full_lower(out)\n",
      "File \u001b[0;32m~/Programs/miniconda3/envs/score_sde/lib/python3.8/site-packages/jax/core.py:595\u001b[0m, in \u001b[0;36mEvalTrace.process_primitive\u001b[0;34m(self, primitive, tracers, params)\u001b[0m\n\u001b[1;32m    594\u001b[0m \u001b[38;5;28;01mdef\u001b[39;00m \u001b[38;5;21mprocess_primitive\u001b[39m(\u001b[38;5;28mself\u001b[39m, primitive, tracers, params):\n\u001b[0;32m--> 595\u001b[0m   \u001b[38;5;28;01mreturn\u001b[39;00m \u001b[43mprimitive\u001b[49m\u001b[38;5;241;43m.\u001b[39;49m\u001b[43mimpl\u001b[49m\u001b[43m(\u001b[49m\u001b[38;5;241;43m*\u001b[39;49m\u001b[43mtracers\u001b[49m\u001b[43m,\u001b[49m\u001b[43m \u001b[49m\u001b[38;5;241;43m*\u001b[39;49m\u001b[38;5;241;43m*\u001b[39;49m\u001b[43mparams\u001b[49m\u001b[43m)\u001b[49m\n",
      "File \u001b[0;32m~/Programs/miniconda3/envs/score_sde/lib/python3.8/site-packages/jax/interpreters/xla.py:235\u001b[0m, in \u001b[0;36mapply_primitive\u001b[0;34m(prim, *args, **params)\u001b[0m\n\u001b[1;32m    233\u001b[0m \u001b[38;5;28;01mdef\u001b[39;00m \u001b[38;5;21mapply_primitive\u001b[39m(prim, \u001b[38;5;241m*\u001b[39margs, \u001b[38;5;241m*\u001b[39m\u001b[38;5;241m*\u001b[39mparams):\n\u001b[1;32m    234\u001b[0m   \u001b[38;5;124;03m\"\"\"Impl rule that compiles and runs a single primitive 'prim' using XLA.\"\"\"\u001b[39;00m\n\u001b[0;32m--> 235\u001b[0m   compiled_fun \u001b[38;5;241m=\u001b[39m \u001b[43mxla_primitive_callable\u001b[49m\u001b[43m(\u001b[49m\u001b[43mprim\u001b[49m\u001b[43m,\u001b[49m\u001b[43m \u001b[49m\u001b[38;5;241;43m*\u001b[39;49m\u001b[43munsafe_map\u001b[49m\u001b[43m(\u001b[49m\u001b[43marg_spec\u001b[49m\u001b[43m,\u001b[49m\u001b[43m \u001b[49m\u001b[43margs\u001b[49m\u001b[43m)\u001b[49m\u001b[43m,\u001b[49m\u001b[43m \u001b[49m\u001b[38;5;241;43m*\u001b[39;49m\u001b[38;5;241;43m*\u001b[39;49m\u001b[43mparams\u001b[49m\u001b[43m)\u001b[49m\n\u001b[1;32m    236\u001b[0m   \u001b[38;5;28;01mreturn\u001b[39;00m compiled_fun(\u001b[38;5;241m*\u001b[39margs)\n",
      "File \u001b[0;32m~/Programs/miniconda3/envs/score_sde/lib/python3.8/site-packages/jax/interpreters/xla.py:260\u001b[0m, in \u001b[0;36mxla_primitive_callable\u001b[0;34m(prim, *arg_specs, **params)\u001b[0m\n\u001b[1;32m    257\u001b[0m     \u001b[38;5;28;01mreturn\u001b[39;00m prim\u001b[38;5;241m.\u001b[39mbind(\u001b[38;5;241m*\u001b[39margs, \u001b[38;5;241m*\u001b[39m\u001b[38;5;241m*\u001b[39mparams)\n\u001b[1;32m    258\u001b[0m   \u001b[38;5;28;01mreturn\u001b[39;00m _xla_callable(lu\u001b[38;5;241m.\u001b[39mwrap_init(prim_fun), device, \u001b[38;5;28;01mNone\u001b[39;00m, \u001b[38;5;124m\"\u001b[39m\u001b[38;5;124mprim\u001b[39m\u001b[38;5;124m\"\u001b[39m, donated_invars,\n\u001b[1;32m    259\u001b[0m                        \u001b[38;5;241m*\u001b[39marg_specs)\n\u001b[0;32m--> 260\u001b[0m aval_out \u001b[38;5;241m=\u001b[39m \u001b[43mprim\u001b[49m\u001b[38;5;241;43m.\u001b[39;49m\u001b[43mabstract_eval\u001b[49m\u001b[43m(\u001b[49m\u001b[38;5;241;43m*\u001b[39;49m\u001b[43mavals\u001b[49m\u001b[43m,\u001b[49m\u001b[43m \u001b[49m\u001b[38;5;241;43m*\u001b[39;49m\u001b[38;5;241;43m*\u001b[39;49m\u001b[43mparams\u001b[49m\u001b[43m)\u001b[49m\n\u001b[1;32m    261\u001b[0m \u001b[38;5;28;01mif\u001b[39;00m \u001b[38;5;129;01mnot\u001b[39;00m prim\u001b[38;5;241m.\u001b[39mmultiple_results:\n\u001b[1;32m    262\u001b[0m   handle_result \u001b[38;5;241m=\u001b[39m aval_to_result_handler(device, aval_out)\n",
      "File \u001b[0;32m~/Programs/miniconda3/envs/score_sde/lib/python3.8/site-packages/jax/_src/lax/lax.py:1988\u001b[0m, in \u001b[0;36mstandard_abstract_eval\u001b[0;34m(prim, shape_rule, dtype_rule, *args, **kwargs)\u001b[0m\n\u001b[1;32m   1986\u001b[0m   out_avals \u001b[38;5;241m=\u001b[39m safe_map(ConcreteArray, out_vals)\n\u001b[1;32m   1987\u001b[0m \u001b[38;5;28;01melif\u001b[39;00m least_specialized \u001b[38;5;129;01mis\u001b[39;00m ShapedArray:\n\u001b[0;32m-> 1988\u001b[0m   shapes, dtypes \u001b[38;5;241m=\u001b[39m \u001b[43mshape_rule\u001b[49m\u001b[43m(\u001b[49m\u001b[38;5;241;43m*\u001b[39;49m\u001b[43margs\u001b[49m\u001b[43m,\u001b[49m\u001b[43m \u001b[49m\u001b[38;5;241;43m*\u001b[39;49m\u001b[38;5;241;43m*\u001b[39;49m\u001b[43mkwargs\u001b[49m\u001b[43m)\u001b[49m, dtype_rule(\u001b[38;5;241m*\u001b[39margs, \u001b[38;5;241m*\u001b[39m\u001b[38;5;241m*\u001b[39mkwargs)\n\u001b[1;32m   1989\u001b[0m   \u001b[38;5;28;01mif\u001b[39;00m \u001b[38;5;129;01mnot\u001b[39;00m prim\u001b[38;5;241m.\u001b[39mmultiple_results:\n\u001b[1;32m   1990\u001b[0m     shapes, dtypes \u001b[38;5;241m=\u001b[39m [shapes], [dtypes]\n",
      "File \u001b[0;32m~/Programs/miniconda3/envs/score_sde/lib/python3.8/site-packages/jax/_src/lax/lax.py:3364\u001b[0m, in \u001b[0;36m_concatenate_shape_rule\u001b[0;34m(*operands, **kwargs)\u001b[0m\n\u001b[1;32m   3362\u001b[0m \u001b[38;5;28;01mif\u001b[39;00m \u001b[38;5;28mlen\u001b[39m({operand\u001b[38;5;241m.\u001b[39mndim \u001b[38;5;28;01mfor\u001b[39;00m operand \u001b[38;5;129;01min\u001b[39;00m operands}) \u001b[38;5;241m!=\u001b[39m \u001b[38;5;241m1\u001b[39m:\n\u001b[1;32m   3363\u001b[0m   msg \u001b[38;5;241m=\u001b[39m \u001b[38;5;124m\"\u001b[39m\u001b[38;5;124mCannot concatenate arrays with different ranks, got \u001b[39m\u001b[38;5;132;01m{}\u001b[39;00m\u001b[38;5;124m.\u001b[39m\u001b[38;5;124m\"\u001b[39m\n\u001b[0;32m-> 3364\u001b[0m   \u001b[38;5;28;01mraise\u001b[39;00m \u001b[38;5;167;01mTypeError\u001b[39;00m(msg\u001b[38;5;241m.\u001b[39mformat(\u001b[38;5;124m\"\u001b[39m\u001b[38;5;124m, \u001b[39m\u001b[38;5;124m\"\u001b[39m\u001b[38;5;241m.\u001b[39mjoin(\u001b[38;5;28mstr\u001b[39m(o\u001b[38;5;241m.\u001b[39mndim) \u001b[38;5;28;01mfor\u001b[39;00m o \u001b[38;5;129;01min\u001b[39;00m operands)))\n\u001b[1;32m   3365\u001b[0m \u001b[38;5;28;01mif\u001b[39;00m \u001b[38;5;129;01mnot\u001b[39;00m \u001b[38;5;241m0\u001b[39m \u001b[38;5;241m<\u001b[39m\u001b[38;5;241m=\u001b[39m dimension \u001b[38;5;241m<\u001b[39m operands[\u001b[38;5;241m0\u001b[39m]\u001b[38;5;241m.\u001b[39mndim:\n\u001b[1;32m   3366\u001b[0m   msg \u001b[38;5;241m=\u001b[39m \u001b[38;5;124m\"\u001b[39m\u001b[38;5;124mconcatenate dimension out of bounds: dimension \u001b[39m\u001b[38;5;132;01m{}\u001b[39;00m\u001b[38;5;124m for shapes \u001b[39m\u001b[38;5;132;01m{}\u001b[39;00m\u001b[38;5;124m.\u001b[39m\u001b[38;5;124m\"\u001b[39m\n",
      "\u001b[0;31mTypeError\u001b[0m: Cannot concatenate arrays with different ranks, got 1, 2."
     ]
    }
   ],
   "source": [
    "sc_approx_fn(jnp.array([[-1, -1]]), jnp.array([1.0]))"
   ]
  },
  {
   "cell_type": "code",
   "execution_count": null,
   "id": "383c4b46",
   "metadata": {},
   "outputs": [],
   "source": []
  }
 ],
 "metadata": {
  "kernelspec": {
   "display_name": "Python 3 (ipykernel)",
   "language": "python",
   "name": "python3"
  },
  "language_info": {
   "codemirror_mode": {
    "name": "ipython",
    "version": 3
   },
   "file_extension": ".py",
   "mimetype": "text/x-python",
   "name": "python",
   "nbconvert_exporter": "python",
   "pygments_lexer": "ipython3",
   "version": "3.8.13"
  }
 },
 "nbformat": 4,
 "nbformat_minor": 5
}
