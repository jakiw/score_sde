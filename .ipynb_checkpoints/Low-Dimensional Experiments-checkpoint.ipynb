{
 "cells": [
  {
   "cell_type": "code",
   "execution_count": 1,
   "id": "fb985800",
   "metadata": {},
   "outputs": [],
   "source": [
    "import jax.numpy as jnp\n",
    "import numpy as onp\n",
    "import jax\n",
    "import jax.random as random\n",
    "import matplotlib.pyplot as plt\n",
    "import seaborn as sns"
   ]
  },
  {
   "cell_type": "code",
   "execution_count": 2,
   "id": "39f147d7",
   "metadata": {},
   "outputs": [],
   "source": [
    "beta_1 = 20\n",
    "beta_0 = 0.1\n",
    "\n",
    "def get_manifold(N_samples):\n",
    "    alphas = jnp.linspace(0, 2*jnp.pi*(1 - 1/N_samples), N_samples)\n",
    "    rs = jnp.ones(N_samples)\n",
    "    return jnp.stack([rs, alphas], axis=1)\n",
    "\n",
    "def eucl_to_polar(x):\n",
    "    return jnp.stack([x[:, 0] * jnp.cos(x[:, 1]), x[:, 0] * jnp.sin(x[:, 1])], axis=1)\n",
    "\n",
    "def get_score(N_samples):\n",
    "    samples = eucl_to_polar(get_manifold(N_samples))\n",
    "    \n",
    "    def log_marginal(x, t):\n",
    "        log_mean_coeff = -0.25 * t ** 2 * (beta_1 - beta_0) - 0.5 * t * beta_0\n",
    "        mean_coeff = jnp.exp(log_mean_coeff)\n",
    "        var = 1 - jnp.exp(2. * log_mean_coeff)\n",
    "        distances = jnp.sum(((x - mean_coeff * samples)**2).reshape(N_samples, -1), axis=1)\n",
    "        return jax.scipy.special.logsumexp(-distances/(2*var), b=1/N_samples)\n",
    "\n",
    "    score = jax.grad(log_marginal)\n",
    "    return log_marginal, score"
   ]
  },
  {
   "cell_type": "code",
   "execution_count": 20,
   "id": "c29594ee",
   "metadata": {},
   "outputs": [],
   "source": [
    "def get_distance_to_mf_fun(N_samples):\n",
    "    mf = eucl_to_polar(get_manifold(N_samples))\n",
    "    def distance(x):\n",
    "        distances = jnp.sum(((x - mf)**2).reshape(N_samples, -1), axis=1)\n",
    "        return jnp.sqrt(jnp.min(distances))\n",
    "    return distance\n",
    "\n",
    "N_train = 12\n",
    "N_mf = 512\n",
    "\n",
    "def dist_mf_fun(x):\n",
    "    r = jnp.sqrt(jnp.sum(x**2))\n",
    "    return jnp.abs(r - 1)\n",
    "\n",
    "dist_train_fun = get_distance_to_mf_fun(N_train)\n",
    "\n",
    "_, score_mf = get_score(N_mf)\n",
    "_, score_train = get_score(N_train)\n",
    "#mf = eucl_to_polar(get_manifold(N_samples))\n",
    "\n",
    "data_train = eucl_to_polar(get_manifold(N_train))\n",
    "data_mf = eucl_to_polar(get_manifold(N_mf))"
   ]
  },
  {
   "cell_type": "code",
   "execution_count": 21,
   "id": "075aee19",
   "metadata": {},
   "outputs": [],
   "source": [
    "from jax.experimental.host_callback import id_print\n",
    "eps = 1e-3\n",
    "N = 1000\n",
    "T = 1\n",
    "timesteps = jnp.linspace(T, eps, N)\n",
    "dt = timesteps[0] - timesteps[1]\n",
    "\n",
    "N_samples = 20\n",
    "\n",
    "shape = (2,)\n",
    "\n",
    "def reverse_SDE(score_fn, rngs):\n",
    "    def one_sample(rng):\n",
    "        def loop_body(i, val):\n",
    "            rng, x, x_mean, d_train, d_mf = val\n",
    "            t = timesteps[i]\n",
    "            beta_t = beta_0 + t * (beta_1 - beta_0)\n",
    "            diffusion = jnp.sqrt(beta_t)\n",
    "\n",
    "            drift = -0.5 * beta_t * x\n",
    "\n",
    "            score = score_fn(x, t)\n",
    "            drift = drift - diffusion**2 *  score\n",
    "            rng, step_rng = random.split(rng)\n",
    "            z = random.normal(step_rng, x.shape)\n",
    "            x_mean = x - drift * dt\n",
    "            x = x_mean + diffusion * jnp.sqrt(dt) * z\n",
    "\n",
    "            d_mf = d_mf.at[i].set(dist_mf_fun(x_mean))\n",
    "            d_train = d_train.at[i].set(dist_train_fun(x_mean))\n",
    "            return rng, x, x_mean, d_train, d_mf\n",
    "\n",
    "        rng, step_rng = random.split(rng)\n",
    "        x = random.normal(rng, (2,))\n",
    "        \n",
    "        d_train = jnp.zeros(N)\n",
    "        d_mf = jnp.zeros(N)\n",
    "        \n",
    "        _, x, x_mean, d_train, d_mf = jax.lax.fori_loop(0, N, loop_body, (rng, x, x, d_train, d_mf))\n",
    "        return x_mean, d_train, d_mf\n",
    "    \n",
    "    return jax.jit(jax.vmap(one_sample))(rngs)"
   ]
  },
  {
   "cell_type": "code",
   "execution_count": 22,
   "id": "65918fdf",
   "metadata": {},
   "outputs": [],
   "source": [
    "random_seed = 25 #@param {\"type\": \"integer\"}\n",
    "rng = jax.random.PRNGKey(random_seed)\n",
    "N_reverse_samples = 5000\n",
    "rngs = jax.random.split(rng, N_reverse_samples)\n",
    "sample, d_train, d_mf = reverse_SDE(score_mf, rngs)"
   ]
  },
  {
   "cell_type": "code",
   "execution_count": 7,
   "id": "722c14ff",
   "metadata": {},
   "outputs": [],
   "source": [
    "mean_dist_train = jnp.mean(d_train, axis=0)\n",
    "mean_dist_mf = jnp.mean(d_mf, axis=0)"
   ]
  },
  {
   "cell_type": "code",
   "execution_count": 8,
   "id": "e1ed7bb4",
   "metadata": {},
   "outputs": [
    {
     "data": {
      "text/plain": [
       "<matplotlib.legend.Legend at 0x7fdf20b00c40>"
      ]
     },
     "execution_count": 8,
     "metadata": {},
     "output_type": "execute_result"
    },
    {
     "data": {
      "image/png": "[encoded data removed]",
      "text/plain": [
       "<Figure size 432x288 with 1 Axes>"
      ]
     },
     "metadata": {
      "needs_background": "light"
     },
     "output_type": "display_data"
    }
   ],
   "source": [
    "plt.plot(mean_dist_train, label=\"Distance to Training Data\")\n",
    "plt.plot(mean_dist_mf, label=\"Distance to MF\")\n",
    "plt.legend()"
   ]
  },
  {
   "cell_type": "code",
   "execution_count": 23,
   "id": "babc0e3b",
   "metadata": {},
   "outputs": [],
   "source": [
    "from jax.experimental.host_callback import id_print\n",
    "eps = 1e-3\n",
    "N = 1000\n",
    "T = 1\n",
    "timesteps = jnp.linspace(T, eps, N)\n",
    "dt = timesteps[0] - timesteps[1]\n",
    "\n",
    "N_samples = 20\n",
    "\n",
    "shape = (2,)\n",
    "\n",
    "def reverse_SDE(rngs, use_true=False):\n",
    "    def one_sample(rng):\n",
    "        def loop_body(i, val):\n",
    "            rng, x, x_mean, log_girsanov_weights = val\n",
    "            t = timesteps[i]\n",
    "            beta_t = beta_0 + t * (beta_1 - beta_0)\n",
    "            diffusion = jnp.sqrt(beta_t)\n",
    "\n",
    "            drift = -0.5 * beta_t * x\n",
    "\n",
    "            score_trained = score_mf(x, t)\n",
    "            score_true = score_train(x, t)\n",
    "\n",
    "            if use_true:\n",
    "                drift = drift - diffusion**2 *  score_true\n",
    "            else:\n",
    "                drift = drift - diffusion**2 *  score_trained\n",
    "\n",
    "            rng, step_rng = random.split(rng)\n",
    "            z = random.normal(step_rng, x.shape)\n",
    "            x_mean = x - drift * dt\n",
    "            x = x_mean + diffusion * jnp.sqrt(dt) * z\n",
    "\n",
    "            if use_true:\n",
    "                score_err = 1/diffusion * (score_trained - score_true) \n",
    "            else:\n",
    "                score_err = 1/diffusion * (score_true - score_trained) \n",
    "\n",
    "            err = jnp.sqrt(dt)* jnp.sum(score_err * z) - dt * 0.5 * jnp.sum((score_err)**2)\n",
    "            log_girsanov_weights = log_girsanov_weights.at[i+1].set(log_girsanov_weights[i] + err)\n",
    "\n",
    "            return rng, x, x_mean, log_girsanov_weights\n",
    "\n",
    "        rng, step_rng = random.split(rng)\n",
    "        x = random.normal(rng, (2,))\n",
    "        \n",
    "        log_girsanov_weights = jnp.zeros(N+1)\n",
    "        \n",
    "        _, x, x_mean, log_girsanov_weights = jax.lax.fori_loop(0, N, loop_body, (rng, x, x, log_girsanov_weights))\n",
    "        return x_mean, log_girsanov_weights\n",
    "    \n",
    "    return jax.jit(jax.vmap(one_sample))(rngs)"
   ]
  },
  {
   "cell_type": "code",
   "execution_count": 29,
   "id": "7709a338",
   "metadata": {},
   "outputs": [],
   "source": [
    "random_seed = 25 #@param {\"type\": \"integer\"}\n",
    "rng = jax.random.PRNGKey(random_seed)\n",
    "N_reverse_samples = 50000\n",
    "rng, *rngs = jax.random.split(rng, N_reverse_samples+1)\n",
    "rng, *rngs2 = jax.random.split(rng, N_reverse_samples+1)\n"
   ]
  },
  {
   "cell_type": "code",
   "execution_count": null,
   "id": "61262a9b",
   "metadata": {},
   "outputs": [],
   "source": [
    "_, log_samples_fp = reverse_SDE(jnp.array(rngs), False)"
   ]
  },
  {
   "cell_type": "code",
   "execution_count": null,
   "id": "7e3f67f2",
   "metadata": {},
   "outputs": [],
   "source": [
    "_, log_samples_fq = reverse_SDE(jnp.array(rngs2), True)"
   ]
  },
  {
   "cell_type": "code",
   "execution_count": 27,
   "id": "88380fa6",
   "metadata": {},
   "outputs": [
    {
     "data": {
      "text/plain": [
       "[<matplotlib.lines.Line2D at 0x7fd6340d46a0>]"
      ]
     },
     "execution_count": 27,
     "metadata": {},
     "output_type": "execute_result"
    },
    {
     "data": {
      "image/png": "[encoded data removed]",
      "text/plain": [
       "<Figure size 432x288 with 1 Axes>"
      ]
     },
     "metadata": {
      "needs_background": "light"
     },
     "output_type": "display_data"
    }
   ],
   "source": [
    "plt.plot(onp.mean(onp.exp(log_samples_fp), axis=0)[950:])"
   ]
  },
  {
   "cell_type": "code",
   "execution_count": null,
   "id": "ae8bba78",
   "metadata": {},
   "outputs": [],
   "source": []
  }
 ],
 "metadata": {
  "kernelspec": {
   "display_name": "Python 3 (ipykernel)",
   "language": "python",
   "name": "python3"
  },
  "language_info": {
   "codemirror_mode": {
    "name": "ipython",
    "version": 3
   },
   "file_extension": ".py",
   "mimetype": "text/x-python",
   "name": "python",
   "nbconvert_exporter": "python",
   "pygments_lexer": "ipython3",
   "version": "3.8.12"
  }
 },
 "nbformat": 4,
 "nbformat_minor": 5
}
